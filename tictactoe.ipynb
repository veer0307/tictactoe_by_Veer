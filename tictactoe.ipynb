{
  "nbformat": 4,
  "nbformat_minor": 0,
  "metadata": {
    "colab": {
      "provenance": []
    },
    "kernelspec": {
      "name": "python3",
      "display_name": "Python 3"
    },
    "language_info": {
      "name": "python"
    }
  },
  "cells": [
    {
      "cell_type": "code",
      "execution_count": null,
      "metadata": {
        "id": "SpwbjBqnpAb0"
      },
      "outputs": [],
      "source": [
        "def board():\n",
        " return [\" \" for _ in range(9)]\n"
      ]
    },
    {
      "cell_type": "code",
      "source": [
        "def print_board(board):\n",
        "  print(\" 1, 2, 3\")\n",
        "  for i,row in enumerate([board[i*3:(i+1)*3] for i in range(3)]):\n",
        "    print(i+1,\" \".join(row))\n",
        "    if i<2:\n",
        "      print(\"   -----\")"
      ],
      "metadata": {
        "id": "5pkXu_Vrplhf"
      },
      "execution_count": null,
      "outputs": []
    },
    {
      "cell_type": "code",
      "source": [
        "def winner(board,player):\n",
        "  condition=[(0,1,2),(3,4,5),(6,7,8),(0,3,6),(1,4,7),(2,5,8),(0,4,8),(2,4,6)]\n",
        "  for win in condition:\n",
        "    if board[condition[0]]==board[condition[1]]==board[condition[2]]==player:\n",
        "      return True\n",
        "  return False\n"
      ],
      "metadata": {
        "id": "9WVez2wVqrDR"
      },
      "execution_count": null,
      "outputs": []
    },
    {
      "cell_type": "code",
      "source": [
        "def draw(board):\n",
        "  return \" \" not in board"
      ],
      "metadata": {
        "id": "t6GF0ClpsiH5"
      },
      "execution_count": null,
      "outputs": []
    },
    {
      "cell_type": "code",
      "source": [
        "def game():\n",
        "  b=board()\n",
        "  current_player=\"X\"\n",
        "  scores={\"X\":0,\"O\":0,\"draws\":0}\n",
        "  while True:\n",
        "    print_board(b)\n",
        "    move=input(f\"player {current_player}, enter your move (example 1,3): \").split()\n",
        "    if len(move)!=2:\n",
        "\n",
        "      print(\"invalid input\")\n",
        "      continue\n",
        "    try:\n",
        "      row, col = int(move[0]) - 1, int(move[1]) - 1\n",
        "      if board[row * 3 + col] != ' ':\n",
        "                print(\"This position is already taken. Try again.\")\n",
        "                continue\n",
        "    except (ValueError, IndexError):\n",
        "            print(\"Invalid input. Please enter numbers between 1 and 3.\")\n",
        "            continue\n",
        "    board[row*3+col]=current_player\n",
        "    if winner(board,current_player):\n",
        "      print_board(b)\n",
        "      print(f\"player {current_player} wins!\")\n",
        "      scores[current_player]+=1\n",
        "      break\n",
        "    if draw(board,current_player):\n",
        "      print_board(b)\n",
        "      print(\"its a draw\")\n",
        "      scores[\"draws\"]+=1\n",
        "      break\n",
        "    current_player=\"O\" if current_player==\"X\" else\"X\"\n",
        "  print(f\"Scores: X - {scores['X']}, O - {scores['O']}, Draws - {scores['Draws']}\")\n",
        "\n",
        "  replay = input(\"Do you want to play again? (yes/no): \").lower()\n",
        "  if replay == 'yes':\n",
        "    game()\n",
        "\n",
        "\n",
        "\n",
        "\n",
        "\n",
        "\n",
        "\n"
      ],
      "metadata": {
        "id": "npjYX-vUsxiX"
      },
      "execution_count": 2,
      "outputs": []
    },
    {
      "cell_type": "code",
      "source": [
        "def initialize_board():\n",
        "    return [' ' for _ in range(9)]\n",
        "\n",
        "def print_board(board):\n",
        "    print(\"  1 2 3\")\n",
        "    for i in range(3):\n",
        "        print(f\"{i+1} {board[i*3]}|{board[i*3+1]}|{board[i*3+2]}\")\n",
        "        if i < 2:\n",
        "            print(\"  -----\")\n",
        "\n",
        "def check_winner(board, player):\n",
        "    win_conditions = [(0, 1, 2), (3, 4, 5), (6, 7, 8),  # Horizontal\n",
        "                      (0, 3, 6), (1, 4, 7), (2, 5, 8),  # Vertical\n",
        "                      (0, 4, 8), (2, 4, 6)]            # Diagonal\n",
        "    for condition in win_conditions:\n",
        "        if board[condition[0]] == board[condition[1]] == board[condition[2]] == player:\n",
        "            return True\n",
        "    return False\n",
        "\n",
        "def check_draw(board):\n",
        "    return ' ' not in board\n",
        "\n",
        "def play_game():\n",
        "    board = initialize_board()\n",
        "    current_player = 'X'\n",
        "    scores = {'X': 0, 'O': 0, 'Draws': 0}\n",
        "\n",
        "    while True:\n",
        "        print_board(board)\n",
        "        move = input(f\"Player {current_player}, enter your move (row and column, e.g., 1 3): \").split()\n",
        "\n",
        "        if len(move) != 2:\n",
        "            print(\"Invalid input. Please enter row and column numbers separated by a space.\")\n",
        "            continue\n",
        "\n",
        "        try:\n",
        "            row, col = int(move[0]) - 1, int(move[1]) - 1\n",
        "            if board[row * 3 + col] != ' ':\n",
        "                print(\"This position is already taken. Try again.\")\n",
        "                continue\n",
        "        except (ValueError, IndexError):\n",
        "            print(\"Invalid input. Please enter numbers between 1 and 3.\")\n",
        "            continue\n",
        "\n",
        "        board[row * 3 + col] = current_player\n",
        "\n",
        "        if check_winner(board, current_player):\n",
        "            print_board(board)\n",
        "            print(f\"Player {current_player} wins!\")\n",
        "            scores[current_player] += 1\n",
        "            break\n",
        "\n",
        "        if check_draw(board):\n",
        "            print_board(board)\n",
        "            print(\"It's a draw!\")\n",
        "            scores['Draws'] += 1\n",
        "            break\n",
        "\n",
        "        current_player = 'O' if current_player == 'X' else 'X'\n",
        "\n",
        "    print(f\"Scores: X - {scores['X']}, O - {scores['O']}, Draws - {scores['Draws']}\")\n",
        "\n",
        "    replay = input(\"Do you want to play again? (yes/no): \").lower()\n",
        "    if replay == 'yes':\n",
        "        play_game()\n",
        "\n",
        "play_game()\n"
      ],
      "metadata": {
        "colab": {
          "base_uri": "https://localhost:8080/"
        },
        "id": "uD9ksRkUxy7x",
        "outputId": "194564a9-3066-4ec9-a078-dde647ba1e27"
      },
      "execution_count": null,
      "outputs": [
        {
          "name": "stdout",
          "output_type": "stream",
          "text": [
            "  1 2 3\n",
            "1  | | \n",
            "  -----\n",
            "2  | | \n",
            "  -----\n",
            "3  | | \n",
            "Player X, enter your move (row and column, e.g., 1 3): 1 1\n",
            "  1 2 3\n",
            "1 X| | \n",
            "  -----\n",
            "2  | | \n",
            "  -----\n",
            "3  | | \n",
            "Player O, enter your move (row and column, e.g., 1 3): 2 2\n",
            "  1 2 3\n",
            "1 X| | \n",
            "  -----\n",
            "2  |O| \n",
            "  -----\n",
            "3  | | \n",
            "Player X, enter your move (row and column, e.g., 1 3): 1 2\n",
            "  1 2 3\n",
            "1 X|X| \n",
            "  -----\n",
            "2  |O| \n",
            "  -----\n",
            "3  | | \n",
            "Player O, enter your move (row and column, e.g., 1 3): 2 3\n",
            "  1 2 3\n",
            "1 X|X| \n",
            "  -----\n",
            "2  |O|O\n",
            "  -----\n",
            "3  | | \n",
            "Player X, enter your move (row and column, e.g., 1 3): 3 2\n",
            "  1 2 3\n",
            "1 X|X| \n",
            "  -----\n",
            "2  |O|O\n",
            "  -----\n",
            "3  |X| \n",
            "Player O, enter your move (row and column, e.g., 1 3): 2 1\n",
            "  1 2 3\n",
            "1 X|X| \n",
            "  -----\n",
            "2 O|O|O\n",
            "  -----\n",
            "3  |X| \n",
            "Player O wins!\n",
            "Scores: X - 0, O - 1, Draws - 0\n",
            "Do you want to play again? (yes/no): no\n"
          ]
        }
      ]
    },
    {
      "cell_type": "code",
      "source": [
        "#0,1,2\n",
        "#3,4,5\n",
        "#6,7,8"
      ],
      "metadata": {
        "id": "kOMEKqnvq6Ux"
      },
      "execution_count": null,
      "outputs": []
    }
  ]
}